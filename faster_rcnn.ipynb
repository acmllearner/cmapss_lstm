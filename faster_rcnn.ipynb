{
 "cells": [
  {
   "cell_type": "code",
   "execution_count": 11,
   "metadata": {},
   "outputs": [
    {
     "name": "stderr",
     "output_type": "stream",
     "text": [
      "C:\\Users\\mferrero\\AppData\\Local\\Continuum\\anaconda3\\lib\\site-packages\\keras_applications\\resnet50.py:265: UserWarning: The output shape of `ResNet50(include_top=False)` has been changed since Keras 2.2.0.\n",
      "  warnings.warn('The output shape of `ResNet50(include_top=False)` '\n"
     ]
    },
    {
     "name": "stdout",
     "output_type": "stream",
     "text": [
      "Downloading data from https://github.com/fchollet/deep-learning-models/releases/download/v0.2/resnet50_weights_tf_dim_ordering_tf_kernels_notop.h5\n",
      "94658560/94653016 [==============================] - 12s 0us/step\n"
     ]
    }
   ],
   "source": [
    "import keras\n",
    "from keras.models import Model\n",
    "from keras.applications.resnet50 import ResNet50\n",
    "\n",
    "IMG_SIZE = (256, 256)\n",
    "model_base = ResNet50(include_top=False, input_shape=(*IMG_SIZE, 3), weights='imagenet')\n",
    "print(model_base)"
   ]
  },
  {
   "cell_type": "code",
   "execution_count": 77,
   "metadata": {},
   "outputs": [
    {
     "name": "stdout",
     "output_type": "stream",
     "text": [
      "len(model_base.layers): 175\n"
     ]
    }
   ],
   "source": [
    "print(\"len(model_base.layers):\",len(model_base.layers) )  "
   ]
  },
  {
   "cell_type": "code",
   "execution_count": 78,
   "metadata": {},
   "outputs": [
    {
     "name": "stdout",
     "output_type": "stream",
     "text": [
      "len(model_base.layers): 175\n",
      "<keras.engine.input_layer.InputLayer object at 0x0000026FCC867D30>\n",
      "False\n",
      "<keras.layers.convolutional.ZeroPadding2D object at 0x0000026FCC867F60>\n",
      "False\n",
      "<keras.layers.convolutional.Conv2D object at 0x0000026FC9018940>\n",
      "False\n",
      "<keras.layers.normalization.BatchNormalization object at 0x0000026FCC86CA58>\n",
      "False\n",
      "<keras.layers.core.Activation object at 0x0000026FC9024898>\n",
      "False\n",
      "model_base.layers[-1]: <keras.layers.core.Activation object at 0x0000026FD2468940>\n",
      "model_base.layers[-1].trainable: False\n"
     ]
    }
   ],
   "source": [
    "print(\"len(model_base.layers):\",len(model_base.layers) )  \n",
    "for layer in model_base.layers[0:5]:\n",
    "    print(layer)\n",
    "    print(layer.trainable)\n",
    "    \n",
    "print('model_base.layers[-1]:',model_base.layers[-1])\n",
    "print('model_base.layers[-1].trainable:',model_base.layers[-1].trainable)\n",
    "\n",
    "### Freeze the pretrained layers so that you preserve the features of the pretrained model and just train the new layers\n",
    "for layer in model_base.layers:\n",
    "     layer.trainable = False"
   ]
  },
  {
   "cell_type": "code",
   "execution_count": 79,
   "metadata": {},
   "outputs": [],
   "source": [
    "# Add any other layers you want to `output` here...\n",
    "input_tensor = model_base.input\n",
    "output_tensor = keras.layers.GlobalAveragePooling2D()(model_base.output)"
   ]
  },
  {
   "cell_type": "code",
   "execution_count": 80,
   "metadata": {},
   "outputs": [],
   "source": [
    "model = Model(input_tensor, output_tensor)\n",
    "model.compile(optimizer='adam',\n",
    "              loss='categorical_crossentropy',\n",
    "              metrics=['accuracy'])"
   ]
  },
  {
   "cell_type": "code",
   "execution_count": null,
   "metadata": {},
   "outputs": [],
   "source": []
  }
 ],
 "metadata": {
  "kernelspec": {
   "display_name": "Python 3",
   "language": "python",
   "name": "python3"
  },
  "language_info": {
   "codemirror_mode": {
    "name": "ipython",
    "version": 3
   },
   "file_extension": ".py",
   "mimetype": "text/x-python",
   "name": "python",
   "nbconvert_exporter": "python",
   "pygments_lexer": "ipython3",
   "version": "3.7.3"
  }
 },
 "nbformat": 4,
 "nbformat_minor": 2
}
